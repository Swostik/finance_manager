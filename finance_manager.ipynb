{
 "cells": [
  {
   "cell_type": "markdown",
   "id": "c76ab58e-3c11-4b75-a37c-8d897266947f",
   "metadata": {},
   "source": [
    "### Personal Finance Manager\n",
    " - This python program will help to check the expenses and incomes from different accoutns and keep track of the finances\n",
    "## What can this programme do?\n",
    " - Create new account\n",
    " - Delete account\n",
    " - Save incoming amount\n",
    " - Save expenses\n",
    " - Produce a report on expenses v income\n",
    "### Further production \n",
    " - Categorize expenses\n",
    " - Automate producing reports "
   ]
  },
  {
   "cell_type": "markdown",
   "id": "49612797-a79a-4203-b54c-0f64062feafd",
   "metadata": {},
   "source": []
  },
  {
   "cell_type": "markdown",
   "id": "438b5a3a-a57e-46ec-a68d-695b302866f8",
   "metadata": {},
   "source": [
    "## Importing libraries\n"
   ]
  },
  {
   "cell_type": "code",
   "execution_count": 4,
   "id": "8a6823e5-a582-4819-b687-aa3839114678",
   "metadata": {},
   "outputs": [],
   "source": [
    "import pandas as pd\n",
    "import matplotlib.pyplot as plt"
   ]
  },
  {
   "cell_type": "markdown",
   "id": "5fa4edd8-b058-4a89-aec1-4cf507cf2d78",
   "metadata": {},
   "source": [
    "## Class : Account\n",
    "This class manages the details of a single account, including its balance and transactions.\n"
   ]
  },
  {
   "cell_type": "code",
   "execution_count": 6,
   "id": "42181214-8cb1-4b8e-b7f0-c4b008075e1d",
   "metadata": {},
   "outputs": [],
   "source": [
    "class Account:\n",
    "    def __init__(self, name, initial_balance = 0):\n",
    "        self.name = name\n",
    "        self.initial_balance = initial_balance\n",
    "        self.transactions = []\n",
    "    def add_transaction(self, transaction):\n",
    "        self.transactions.append(transaction)\n",
    "        self.balance += transaction.amount"
   ]
  },
  {
   "cell_type": "code",
   "execution_count": null,
   "id": "cb3effdf-dae5-44f5-b90f-c70d0de044fa",
   "metadata": {},
   "outputs": [],
   "source": []
  }
 ],
 "metadata": {
  "kernelspec": {
   "display_name": "Python 3 (ipykernel)",
   "language": "python",
   "name": "python3"
  },
  "language_info": {
   "codemirror_mode": {
    "name": "ipython",
    "version": 3
   },
   "file_extension": ".py",
   "mimetype": "text/x-python",
   "name": "python",
   "nbconvert_exporter": "python",
   "pygments_lexer": "ipython3",
   "version": "3.12.1"
  }
 },
 "nbformat": 4,
 "nbformat_minor": 5
}
