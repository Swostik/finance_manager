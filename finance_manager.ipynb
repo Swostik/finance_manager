{
 "cells": [
  {
   "cell_type": "markdown",
   "id": "c76ab58e-3c11-4b75-a37c-8d897266947f",
   "metadata": {},
   "source": [
    "### Personal Finance Manager\n",
    " - This python program will help to check the expenses and incomes from different accoutns and keep track of the finances\n",
    "## What can this programme do?\n",
    " - Create new account\n",
    " - Delete account\n",
    " - Save incoming amount\n",
    " - Save expenses\n",
    " - Produce a report on expenses v income\n",
    "### Further production \n",
    " - Categorize expenses\n",
    " - Automate producing reports "
   ]
  },
  {
   "cell_type": "markdown",
   "id": "49612797-a79a-4203-b54c-0f64062feafd",
   "metadata": {},
   "source": []
  },
  {
   "cell_type": "markdown",
   "id": "438b5a3a-a57e-46ec-a68d-695b302866f8",
   "metadata": {},
   "source": [
    "## Importing libraries\n"
   ]
  },
  {
   "cell_type": "code",
   "execution_count": 41,
   "id": "8a6823e5-a582-4819-b687-aa3839114678",
   "metadata": {},
   "outputs": [],
   "source": [
    "import pandas as pd\n",
    "import matplotlib.pyplot as plt\n",
    "import json"
   ]
  },
  {
   "cell_type": "markdown",
   "id": "5fa4edd8-b058-4a89-aec1-4cf507cf2d78",
   "metadata": {},
   "source": [
    "## Class : Account\n",
    "This class manages the details of a single account, including its balance and transactions.\n"
   ]
  },
  {
   "cell_type": "code",
   "execution_count": 56,
   "id": "42181214-8cb1-4b8e-b7f0-c4b008075e1d",
   "metadata": {},
   "outputs": [],
   "source": [
    "class Account:\n",
    "    def __init__(self, name, initial_balance = 0):\n",
    "        self.name = name\n",
    "        self.balance = initial_balance\n",
    "        self.transactions = []\n",
    "        \n",
    "    def add_transaction(self, transaction):\n",
    "        self.transactions.append(transaction)\n",
    "        self.balance += transaction.amount\n",
    "\n",
    "    def get_balance(self):\n",
    "        return self.balance\n",
    "\n",
    "    "
   ]
  },
  {
   "cell_type": "markdown",
   "id": "1d93d8b7-7a8a-4502-bc1d-fb4ee62f7707",
   "metadata": {},
   "source": [
    "## Class : Transaction\n",
    "This class handles individual transactions (income, expenses)\n",
    "\n",
    "- Initialize a new transaction.\n",
    "        \n",
    "    - param date: The date of the transaction (e.g., '2024-09-01')\n",
    "    - param description: A description of the transaction (e.g., 'Groceries')\n",
    "    - param amount: The amount of the transaction (negative for expense, positive for income)\n",
    "    - param category: Optional category for the transaction (e.g., 'Food', 'Salary')\n"
   ]
  },
  {
   "cell_type": "code",
   "execution_count": 53,
   "id": "7d996389-a80e-48b8-b2ad-832b2887449e",
   "metadata": {},
   "outputs": [],
   "source": [
    "class Transaction:\n",
    "    def __init__(self,date, description, amount, category=None):\n",
    "        self.date = date\n",
    "        self.description = description\n",
    "        self.amount = amount\n",
    "        self.category = category\n",
    "          \n",
    "    def __str__(self):\n",
    "        category = self.category if self.category else \"Uncategorised\"\n",
    "        return f\"{self.date}: {self.description} - {self.amount} ({category})\"\n",
    "        \n",
    "    "
   ]
  },
  {
   "cell_type": "markdown",
   "id": "a2b3bf86-437a-4c62-81d9-c0b381b25447",
   "metadata": {},
   "source": [
    "## Class: Finance Tracker\n",
    "Key Features for the FinanceTracker Class:\n",
    "- Attributes:\n",
    "    - A list or dictionary to store all accounts (or users, depending on your project scope).\n",
    "    - The ability to add new accounts and transactions.\n",
    "- Methods:\n",
    "    - Add a new account.\n",
    "    - Add a transaction to an account.\n",
    "    - View balance for a specific account.\n"
   ]
  },
  {
   "cell_type": "code",
   "execution_count": 100,
   "id": "d6726bbd-a13d-4647-a9b6-a7ed3e67c910",
   "metadata": {},
   "outputs": [],
   "source": [
    "class FinanceTracker:\n",
    "    def __init__(self, data_file='finance_data.json'):\n",
    "        self.accounts = {}\n",
    "        self.data_file = data_file\n",
    "        self.load_data() #Load data in the start of the program\n",
    "\n",
    "    def add_account(self, account_name, initial_balance=0):\n",
    "        if account_name in self.accounts:\n",
    "            print(f\"Account '{account.name}' already exists\")\n",
    "        else:\n",
    "            account = Account(account_name, initial_balance)\n",
    "            self.accounts[account_name] = account\n",
    "            print(f\"Account '{account_name}' added.\")\n",
    "            self.save_data()\n",
    "            \n",
    "    def check_account_exists(self, account_name):\n",
    "        if account_name in self.accounts:\n",
    "            return True\n",
    "        else:\n",
    "            return False\n",
    "\n",
    "    def show_all_accounts(self):\n",
    "        \"\"\"Display all accounts with their balance.\"\"\"\n",
    "        if not self.accounts:\n",
    "            print(\"No accounts found.\")\n",
    "        else:\n",
    "            for account_name, account in self.accounts.items():\n",
    "                print(f\"Account: {account_name}, Balance: {account.balance}\")\n",
    "            \n",
    "\n",
    "\n",
    "    def add_transaction(self,account_name,date,description, amount, category=None):\n",
    "        if account_name in self.accounts:\n",
    "            transaction = Transaction(date,description,amount,category)\n",
    "            self.accounts[account_name].add_transaction(transaction)\n",
    "            print(f\"Transaction added to '{account_name}' account.\")\n",
    "            self.save_data()\n",
    "        else:\n",
    "            print(f\"Account '{account_name}' does not exist. Please create account before adding transaction.\")\n",
    "\n",
    "    def get_account_balance(self, account_name):\n",
    "        if account_name in self.accounts:\n",
    "            return self.accounts[account_name].get_balance()\n",
    "        else:\n",
    "            print(f\"Account '{account_name}' does not exist.\")\n",
    "            return None\n",
    "\n",
    "    def generate_report(self):\n",
    "        print(\"Finance Summary of All accounts\")\n",
    "        print(\"-\" * 30)\n",
    "        total_balance = 0\n",
    "        print(self.accounts)\n",
    "        for account in self.accounts.values():\n",
    "            balance = account.balance\n",
    "            total_balance += balance\n",
    "            print(f\"Account: {account.name} | Balance: {balance}\")\n",
    "        print(f\"Total Balance across all accounts: {total_balance}\")\n",
    "        print(\"-\" * 30)\n",
    "        \n",
    "    def save_data(self):\n",
    "        \"\"\"Save all account and transaction data to a JSON file.\"\"\"\n",
    "        data = {}\n",
    "\n",
    "        for account_name, account in self.accounts.items():\n",
    "            data[account_name] = {\n",
    "                'balance': account.balance,\n",
    "                'transactions': [\n",
    "                    {\n",
    "                        'date': t.date,\n",
    "                        'description': t.description,\n",
    "                        'amount': t.amount,\n",
    "                        'category': t.category\n",
    "                    }\n",
    "                    for t in account.transactions\n",
    "                ]\n",
    "            }\n",
    "        \n",
    "        # Save the data to the file\n",
    "        with open(self.data_file, 'w') as f:\n",
    "            json.dump(data, f, indent=4)      \n",
    "\n",
    "    def load_data(self):\n",
    "            \"\"\"Load account and transaction data from a JSON file if it exists.\"\"\"\n",
    "            try:\n",
    "                with open(self.data_file, 'r') as f:\n",
    "                    data = json.load(f)\n",
    "                \n",
    "                # Reconstruct the accounts and transactions from the JSON data\n",
    "                for account_name, account_data in data.items():\n",
    "                    account = Account(account_name, account_data['balance'])\n",
    "                    for transaction_data in account_data['transactions']:\n",
    "                        transaction = Transaction(\n",
    "                            transaction_data['date'],\n",
    "                            transaction_data['description'],\n",
    "                            transaction_data['amount'],\n",
    "                            transaction_data.get('category')\n",
    "                        )\n",
    "                        account.add_transaction(transaction)\n",
    "                    self.accounts[account_name] = account\n",
    "                print(f\"Loaded data from {self.data_file}\")\n",
    "            except FileNotFoundError:\n",
    "                print(f\"No data file found. Starting fresh.\")\n",
    "            except json.JSONDecodeError:\n",
    "                print(f\"Error loading JSON data. Starting fresh.\")\n",
    "            "
   ]
  },
  {
   "cell_type": "code",
   "execution_count": 101,
   "id": "5ed61d9d-b824-4af6-92fa-93b75ffd8132",
   "metadata": {},
   "outputs": [],
   "source": [
    "def display_menu():\n",
    "    print(\"\\n--- Finance Tracker Menu ---\")\n",
    "    print(\"1. Add new account\")\n",
    "    print(\"2. Add transaction\")\n",
    "    print(\"3. View account balance\")\n",
    "    print(\"4. Generate report for all accounts\")\n",
    "    print(\"5. View category breakdown for an account\")\n",
    "    print(\"6. Show All accounts\")\n",
    "    print(\"7. Exit\")\n",
    "\n",
    "    "
   ]
  },
  {
   "cell_type": "code",
   "execution_count": 106,
   "id": "a8ef2c6e-283f-46b2-8f7f-37f1dd1c77d9",
   "metadata": {},
   "outputs": [],
   "source": [
    "def main():\n",
    "    tracker = FinanceTracker()\n",
    "\n",
    "    while True:\n",
    "        display_menu()\n",
    "        choice = input(\"Select an option (1-6): \")\n",
    "\n",
    "        if choice == \"1\":\n",
    "            account_name = input(\"Enter account name: \")\n",
    "            initial_balance = float(input(\"Enter initial balance: \"))\n",
    "            tracker.add_account(account_name, initial_balance)\n",
    "\n",
    "        elif choice == \"2\":\n",
    "            account_name = input(\"Enter account name: \")\n",
    "            if tracker.check_account_exists(account_name):\n",
    "                date = input(\"Enter transaction date (YYYY-MM-DD): \")\n",
    "                description = input(\"Enter transaction description: \")\n",
    "                amount = float(input(\"Enter transaction amount (positive for income, negative for expense): \"))\n",
    "                category = input(\"Enter transaction category (optional): \")\n",
    "                tracker.add_transaction(account_name, date, description, amount, category)\n",
    "            else:\n",
    "                print(f\"Account '{account_name}' does not exist. Please create the account first.\")\n",
    "\n",
    "\n",
    "        elif choice == \"3\":\n",
    "            account_name = input(\"Enter account name: \")\n",
    "            balance = tracker.get_account_balance(account_name)\n",
    "            if balance is not None:\n",
    "                print(f\"Balance for {account_name}: {balance}\")\n",
    "\n",
    "        elif choice == \"4\":\n",
    "            tracker.generate_report()\n",
    "\n",
    "        elif choice == \"5\":\n",
    "            account_name = input(\"Enter account name: \")\n",
    "            tracker.category_report(account_name)\n",
    "\n",
    "        elif choice == \"6\":\n",
    "            tracker.show_all_accounts()\n",
    "\n",
    "        elif choice == \"7\":\n",
    "            print(\"Exiting the Finance Tracker. Goodbye!\")\n",
    "            break\n",
    "\n",
    "        else:\n",
    "            print(\"Invalid choice. Please try again.\")\n"
   ]
  },
  {
   "cell_type": "code",
   "execution_count": null,
   "id": "9094711a-20d2-40b9-88a6-f16b094e3136",
   "metadata": {},
   "outputs": [
    {
     "name": "stdout",
     "output_type": "stream",
     "text": [
      "Loaded data from finance_data.json\n",
      "\n",
      "--- Finance Tracker Menu ---\n",
      "1. Add new account\n",
      "2. Add transaction\n",
      "3. View account balance\n",
      "4. Generate report for all accounts\n",
      "5. View category breakdown for an account\n",
      "6. Show All accounts\n",
      "7. Exit\n"
     ]
    },
    {
     "name": "stdin",
     "output_type": "stream",
     "text": [
      "Select an option (1-6):  6\n"
     ]
    },
    {
     "name": "stdout",
     "output_type": "stream",
     "text": [
      "Account: home, Balance: 785.0\n",
      "Account: office, Balance: 5000.0\n",
      "\n",
      "--- Finance Tracker Menu ---\n",
      "1. Add new account\n",
      "2. Add transaction\n",
      "3. View account balance\n",
      "4. Generate report for all accounts\n",
      "5. View category breakdown for an account\n",
      "6. Show All accounts\n",
      "7. Exit\n"
     ]
    }
   ],
   "source": [
    "# Run the interactive program\n",
    "if __name__ == \"__main__\":\n",
    "    main()"
   ]
  },
  {
   "cell_type": "code",
   "execution_count": null,
   "id": "985afea4-bc46-4c72-b547-1b72bd4e08d8",
   "metadata": {},
   "outputs": [],
   "source": []
  },
  {
   "cell_type": "code",
   "execution_count": null,
   "id": "798350dc-65e9-4a7a-aa76-dd5d8ffc136e",
   "metadata": {},
   "outputs": [],
   "source": [
    "tracker = FinanceTracker()"
   ]
  },
  {
   "cell_type": "code",
   "execution_count": 16,
   "id": "31707db1-c273-4f36-86cb-5be86b3e0604",
   "metadata": {},
   "outputs": [
    {
     "name": "stdout",
     "output_type": "stream",
     "text": [
      "Account 'test' added.\n"
     ]
    }
   ],
   "source": [
    "tracker.add_account(\"test\", 600)"
   ]
  },
  {
   "cell_type": "code",
   "execution_count": 18,
   "id": "2d20076b-aac5-4b9a-bb7e-6693992e6cf3",
   "metadata": {},
   "outputs": [
    {
     "data": {
      "text/plain": [
       "600"
      ]
     },
     "execution_count": 18,
     "metadata": {},
     "output_type": "execute_result"
    }
   ],
   "source": [
    "tracker.get_balance(\"test\")"
   ]
  },
  {
   "cell_type": "raw",
   "id": "c848d09a-7fa0-4a14-bc21-b40df4934de2",
   "metadata": {},
   "source": []
  }
 ],
 "metadata": {
  "kernelspec": {
   "display_name": "Python 3 (ipykernel)",
   "language": "python",
   "name": "python3"
  },
  "language_info": {
   "codemirror_mode": {
    "name": "ipython",
    "version": 3
   },
   "file_extension": ".py",
   "mimetype": "text/x-python",
   "name": "python",
   "nbconvert_exporter": "python",
   "pygments_lexer": "ipython3",
   "version": "3.12.1"
  }
 },
 "nbformat": 4,
 "nbformat_minor": 5
}
