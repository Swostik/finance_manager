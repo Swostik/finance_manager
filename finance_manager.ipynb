{
 "cells": [
  {
   "cell_type": "markdown",
   "id": "c76ab58e-3c11-4b75-a37c-8d897266947f",
   "metadata": {},
   "source": [
    "### Personal Finance Manager\n",
    " - This python program will help to check the expenses and incomes from different accoutns and keep track of the finances\n",
    "## What can this programme do?\n",
    " - Create new account\n",
    " - Delete account\n",
    " - Save incoming amount\n",
    " - Save expenses\n",
    " - Produce a report on expenses v income\n",
    "### Further production \n",
    " - Categorize expenses\n",
    " - Automate producing reports "
   ]
  },
  {
   "cell_type": "markdown",
   "id": "49612797-a79a-4203-b54c-0f64062feafd",
   "metadata": {},
   "source": []
  },
  {
   "cell_type": "markdown",
   "id": "438b5a3a-a57e-46ec-a68d-695b302866f8",
   "metadata": {},
   "source": [
    "## Importing libraries\n"
   ]
  },
  {
   "cell_type": "code",
   "execution_count": 4,
   "id": "8a6823e5-a582-4819-b687-aa3839114678",
   "metadata": {},
   "outputs": [],
   "source": [
    "import pandas as pd\n",
    "import matplotlib.pyplot as plt"
   ]
  },
  {
   "cell_type": "markdown",
   "id": "5fa4edd8-b058-4a89-aec1-4cf507cf2d78",
   "metadata": {},
   "source": [
    "## Class : Account\n",
    "This class manages the details of a single account, including its balance and transactions.\n"
   ]
  },
  {
   "cell_type": "code",
   "execution_count": 6,
   "id": "42181214-8cb1-4b8e-b7f0-c4b008075e1d",
   "metadata": {},
   "outputs": [],
   "source": [
    "class Account:\n",
    "    def __init__(self, name, initial_balance = 0):\n",
    "        self.name = name\n",
    "        self.initial_balance = initial_balance\n",
    "        self.transactions = []\n",
    "    def add_transaction(self, transaction):\n",
    "        self.transactions.append(transaction)\n",
    "        self.balance += transaction.amount"
   ]
  },
  {
   "cell_type": "markdown",
   "id": "1d93d8b7-7a8a-4502-bc1d-fb4ee62f7707",
   "metadata": {},
   "source": [
    "## Class : Transaction\n",
    "This class handles individual transactions (income, expenses)\n",
    "\n",
    "        Initialize a new transaction.\n",
    "        \n",
    "        :param date: The date of the transaction (e.g., '2024-09-01')\n",
    "        :param description: A description of the transaction (e.g., 'Groceries')\n",
    "        :param amount: The amount of the transaction (negative for expense, positive for income)\n",
    "        :param category: Optional category for the transaction (e.g., 'Food', 'Salary')\n",
    "        "
   ]
  },
  {
   "cell_type": "code",
   "execution_count": 4,
   "id": "7d996389-a80e-48b8-b2ad-832b2887449e",
   "metadata": {},
   "outputs": [],
   "source": [
    "class Transaction:\n",
    "    def __init__(self,date, description, amount, category=None):\n",
    "        self.date = date\n",
    "        self.description = description\n",
    "        self.amount = amount\n",
    "        self.category = category\n",
    "          \n",
    "        \n",
    "\n",
    "    def __str__(self):\n",
    "        category = self.category if self.category else \"Uncategorised\"\n",
    "        return f\"{self.date}: {self.description} - {self.amount} ({category})\"\n",
    "        \n",
    "    "
   ]
  },
  {
   "cell_type": "markdown",
   "id": "a2b3bf86-437a-4c62-81d9-c0b381b25447",
   "metadata": {},
   "source": [
    "## Class: Finance Tracker\n",
    "Key Features for the FinanceTracker Class:\n",
    "- Attributes:\n",
    "    - A list or dictionary to store all accounts (or users, depending on your project scope).\n",
    "    - The ability to add new accounts and transactions.\n",
    "- Methods:\n",
    "    - Add a new account.\n",
    "    - Add a transaction to an account.\n",
    "    - View balance for a specific account.\n"
   ]
  },
  {
   "cell_type": "code",
   "execution_count": null,
   "id": "d6726bbd-a13d-4647-a9b6-a7ed3e67c910",
   "metadata": {},
   "outputs": [],
   "source": [
    "class FinanceTracker:\n",
    "    def __init__(self):\n",
    "        self.accounts = {}\n",
    "\n",
    "    def add_account(self, account):\n",
    "        if account.name in self.accounts:\n",
    "            print(f\"Account '{account.name}' already exists\")\n",
    "        else:\n",
    "            self.accounts[account.name] = account\n",
    "            print(f\"Account '{account.name}' added.\")\n",
    "\n",
    "    def add_transaction(self,account_name,transaction):\n",
    "        if account_name in self.accounts:\n",
    "            self.accounts[account_name].add_transaction(transaction)\n",
    "            print(f\"Transaction added to '{account_name}' account.\")\n",
    "        else:\n",
    "            print(f\"Account '{account_name}' does not exist. Please create account before adding transaction.\")\n",
    "\n",
    "    def get_balance(self, account_name):\n",
    "        if account_name in self.accounts:\n",
    "            return self.accounts[account_name].balance\n",
    "        else:\n",
    "            print(f\"Account '{account_name}' does not exist.\")\n",
    "            return None\n",
    "            "
   ]
  }
 ],
 "metadata": {
  "kernelspec": {
   "display_name": "Python 3 (ipykernel)",
   "language": "python",
   "name": "python3"
  },
  "language_info": {
   "codemirror_mode": {
    "name": "ipython",
    "version": 3
   },
   "file_extension": ".py",
   "mimetype": "text/x-python",
   "name": "python",
   "nbconvert_exporter": "python",
   "pygments_lexer": "ipython3",
   "version": "3.12.1"
  }
 },
 "nbformat": 4,
 "nbformat_minor": 5
}
